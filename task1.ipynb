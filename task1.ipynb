{
 "cells": [
  {
   "cell_type": "markdown",
   "id": "cd8dc4a8",
   "metadata": {
    "_cell_guid": "b1076dfc-b9ad-4769-8c92-a6c4dae69d19",
    "_uuid": "8f2839f25d086af736a60e9eeb907d3b93b6e0e5",
    "execution": {
     "iopub.execute_input": "2023-10-05T12:03:40.260739Z",
     "iopub.status.busy": "2023-10-05T12:03:40.260260Z",
     "iopub.status.idle": "2023-10-05T12:03:40.267709Z",
     "shell.execute_reply": "2023-10-05T12:03:40.266530Z",
     "shell.execute_reply.started": "2023-10-05T12:03:40.260702Z"
    },
    "papermill": {
     "duration": 0.00918,
     "end_time": "2023-10-05T12:20:01.846760",
     "exception": false,
     "start_time": "2023-10-05T12:20:01.837580",
     "status": "completed"
    },
    "tags": []
   },
   "source": [
    "# Task_1 (TITANIC SURVIVAL PREDICTION)"
   ]
  },
  {
   "cell_type": "markdown",
   "id": "3afc37c2",
   "metadata": {
    "papermill": {
     "duration": 0.006826,
     "end_time": "2023-10-05T12:20:01.861567",
     "exception": false,
     "start_time": "2023-10-05T12:20:01.854741",
     "status": "completed"
    },
    "tags": []
   },
   "source": [
    "**Import Library**"
   ]
  },
  {
   "cell_type": "code",
   "execution_count": 1,
   "id": "de23eec4",
   "metadata": {
    "execution": {
     "iopub.execute_input": "2023-10-05T12:20:01.877475Z",
     "iopub.status.busy": "2023-10-05T12:20:01.877002Z",
     "iopub.status.idle": "2023-10-05T12:20:04.407547Z",
     "shell.execute_reply": "2023-10-05T12:20:04.406431Z"
    },
    "papermill": {
     "duration": 2.541635,
     "end_time": "2023-10-05T12:20:04.410389",
     "exception": false,
     "start_time": "2023-10-05T12:20:01.868754",
     "status": "completed"
    },
    "tags": []
   },
   "outputs": [],
   "source": [
    "#Import Library\n",
    "import pandas as pd \n",
    "from sklearn.preprocessing import LabelEncoder\n",
    "import matplotlib.pyplot as plt\n",
    "from sklearn import preprocessing\n",
    "from sklearn.model_selection import train_test_split\n",
    "import matplotlib.pyplot as plt\n",
    "import seaborn as sns\n",
    "from sklearn.metrics import accuracy_score as score\n",
    "from sklearn.metrics import f1_score\n",
    "from sklearn.metrics import recall_score\n",
    "from sklearn.metrics import precision_score\n",
    "from sklearn import linear_model\n",
    "from sklearn import svm\n",
    "from sklearn.tree import DecisionTreeClassifier"
   ]
  },
  {
   "cell_type": "markdown",
   "id": "2348fa1a",
   "metadata": {
    "papermill": {
     "duration": 0.006921,
     "end_time": "2023-10-05T12:20:04.425182",
     "exception": false,
     "start_time": "2023-10-05T12:20:04.418261",
     "status": "completed"
    },
    "tags": []
   },
   "source": [
    "**Load Data**"
   ]
  },
  {
   "cell_type": "code",
   "execution_count": 2,
   "id": "5f88b38f",
   "metadata": {
    "execution": {
     "iopub.execute_input": "2023-10-05T12:20:04.441374Z",
     "iopub.status.busy": "2023-10-05T12:20:04.440637Z",
     "iopub.status.idle": "2023-10-05T12:20:04.597542Z",
     "shell.execute_reply": "2023-10-05T12:20:04.596313Z"
    },
    "papermill": {
     "duration": 0.168034,
     "end_time": "2023-10-05T12:20:04.600345",
     "exception": false,
     "start_time": "2023-10-05T12:20:04.432311",
     "status": "completed"
    },
    "tags": []
   },
   "outputs": [],
   "source": [
    "titanic_data=pd.read_csv(\"/kaggle/input/test-file/tested.csv\")"
   ]
  },
  {
   "cell_type": "markdown",
   "id": "18ddb05b",
   "metadata": {
    "papermill": {
     "duration": 0.006916,
     "end_time": "2023-10-05T12:20:04.614550",
     "exception": false,
     "start_time": "2023-10-05T12:20:04.607634",
     "status": "completed"
    },
    "tags": []
   },
   "source": [
    "**Understand Data**"
   ]
  },
  {
   "cell_type": "code",
   "execution_count": 3,
   "id": "9f6c4776",
   "metadata": {
    "execution": {
     "iopub.execute_input": "2023-10-05T12:20:04.630660Z",
     "iopub.status.busy": "2023-10-05T12:20:04.630242Z",
     "iopub.status.idle": "2023-10-05T12:20:04.656968Z",
     "shell.execute_reply": "2023-10-05T12:20:04.656037Z"
    },
    "papermill": {
     "duration": 0.037543,
     "end_time": "2023-10-05T12:20:04.659297",
     "exception": false,
     "start_time": "2023-10-05T12:20:04.621754",
     "status": "completed"
    },
    "tags": []
   },
   "outputs": [
    {
     "data": {
      "text/html": [
       "<div>\n",
       "<style scoped>\n",
       "    .dataframe tbody tr th:only-of-type {\n",
       "        vertical-align: middle;\n",
       "    }\n",
       "\n",
       "    .dataframe tbody tr th {\n",
       "        vertical-align: top;\n",
       "    }\n",
       "\n",
       "    .dataframe thead th {\n",
       "        text-align: right;\n",
       "    }\n",
       "</style>\n",
       "<table border=\"1\" class=\"dataframe\">\n",
       "  <thead>\n",
       "    <tr style=\"text-align: right;\">\n",
       "      <th></th>\n",
       "      <th>PassengerId</th>\n",
       "      <th>Survived</th>\n",
       "      <th>Pclass</th>\n",
       "      <th>Name</th>\n",
       "      <th>Sex</th>\n",
       "      <th>Age</th>\n",
       "      <th>SibSp</th>\n",
       "      <th>Parch</th>\n",
       "      <th>Ticket</th>\n",
       "      <th>Fare</th>\n",
       "      <th>Cabin</th>\n",
       "      <th>Embarked</th>\n",
       "    </tr>\n",
       "  </thead>\n",
       "  <tbody>\n",
       "    <tr>\n",
       "      <th>0</th>\n",
       "      <td>892</td>\n",
       "      <td>0</td>\n",
       "      <td>3</td>\n",
       "      <td>Kelly, Mr. James</td>\n",
       "      <td>male</td>\n",
       "      <td>34.5</td>\n",
       "      <td>0</td>\n",
       "      <td>0</td>\n",
       "      <td>330911</td>\n",
       "      <td>7.8292</td>\n",
       "      <td>NaN</td>\n",
       "      <td>Q</td>\n",
       "    </tr>\n",
       "    <tr>\n",
       "      <th>1</th>\n",
       "      <td>893</td>\n",
       "      <td>1</td>\n",
       "      <td>3</td>\n",
       "      <td>Wilkes, Mrs. James (Ellen Needs)</td>\n",
       "      <td>female</td>\n",
       "      <td>47.0</td>\n",
       "      <td>1</td>\n",
       "      <td>0</td>\n",
       "      <td>363272</td>\n",
       "      <td>7.0000</td>\n",
       "      <td>NaN</td>\n",
       "      <td>S</td>\n",
       "    </tr>\n",
       "    <tr>\n",
       "      <th>2</th>\n",
       "      <td>894</td>\n",
       "      <td>0</td>\n",
       "      <td>2</td>\n",
       "      <td>Myles, Mr. Thomas Francis</td>\n",
       "      <td>male</td>\n",
       "      <td>62.0</td>\n",
       "      <td>0</td>\n",
       "      <td>0</td>\n",
       "      <td>240276</td>\n",
       "      <td>9.6875</td>\n",
       "      <td>NaN</td>\n",
       "      <td>Q</td>\n",
       "    </tr>\n",
       "    <tr>\n",
       "      <th>3</th>\n",
       "      <td>895</td>\n",
       "      <td>0</td>\n",
       "      <td>3</td>\n",
       "      <td>Wirz, Mr. Albert</td>\n",
       "      <td>male</td>\n",
       "      <td>27.0</td>\n",
       "      <td>0</td>\n",
       "      <td>0</td>\n",
       "      <td>315154</td>\n",
       "      <td>8.6625</td>\n",
       "      <td>NaN</td>\n",
       "      <td>S</td>\n",
       "    </tr>\n",
       "    <tr>\n",
       "      <th>4</th>\n",
       "      <td>896</td>\n",
       "      <td>1</td>\n",
       "      <td>3</td>\n",
       "      <td>Hirvonen, Mrs. Alexander (Helga E Lindqvist)</td>\n",
       "      <td>female</td>\n",
       "      <td>22.0</td>\n",
       "      <td>1</td>\n",
       "      <td>1</td>\n",
       "      <td>3101298</td>\n",
       "      <td>12.2875</td>\n",
       "      <td>NaN</td>\n",
       "      <td>S</td>\n",
       "    </tr>\n",
       "  </tbody>\n",
       "</table>\n",
       "</div>"
      ],
      "text/plain": [
       "   PassengerId  Survived  Pclass  \\\n",
       "0          892         0       3   \n",
       "1          893         1       3   \n",
       "2          894         0       2   \n",
       "3          895         0       3   \n",
       "4          896         1       3   \n",
       "\n",
       "                                           Name     Sex   Age  SibSp  Parch  \\\n",
       "0                              Kelly, Mr. James    male  34.5      0      0   \n",
       "1              Wilkes, Mrs. James (Ellen Needs)  female  47.0      1      0   \n",
       "2                     Myles, Mr. Thomas Francis    male  62.0      0      0   \n",
       "3                              Wirz, Mr. Albert    male  27.0      0      0   \n",
       "4  Hirvonen, Mrs. Alexander (Helga E Lindqvist)  female  22.0      1      1   \n",
       "\n",
       "    Ticket     Fare Cabin Embarked  \n",
       "0   330911   7.8292   NaN        Q  \n",
       "1   363272   7.0000   NaN        S  \n",
       "2   240276   9.6875   NaN        Q  \n",
       "3   315154   8.6625   NaN        S  \n",
       "4  3101298  12.2875   NaN        S  "
      ]
     },
     "execution_count": 3,
     "metadata": {},
     "output_type": "execute_result"
    }
   ],
   "source": [
    "titanic_data.head()"
   ]
  },
  {
   "cell_type": "code",
   "execution_count": 4,
   "id": "fc23a96a",
   "metadata": {
    "execution": {
     "iopub.execute_input": "2023-10-05T12:20:04.676557Z",
     "iopub.status.busy": "2023-10-05T12:20:04.675696Z",
     "iopub.status.idle": "2023-10-05T12:20:04.682589Z",
     "shell.execute_reply": "2023-10-05T12:20:04.681546Z"
    },
    "papermill": {
     "duration": 0.017774,
     "end_time": "2023-10-05T12:20:04.684675",
     "exception": false,
     "start_time": "2023-10-05T12:20:04.666901",
     "status": "completed"
    },
    "tags": []
   },
   "outputs": [
    {
     "data": {
      "text/plain": [
       "(418, 12)"
      ]
     },
     "execution_count": 4,
     "metadata": {},
     "output_type": "execute_result"
    }
   ],
   "source": [
    "titanic_data.shape"
   ]
  },
  {
   "cell_type": "code",
   "execution_count": 5,
   "id": "0ae061c3",
   "metadata": {
    "execution": {
     "iopub.execute_input": "2023-10-05T12:20:04.701301Z",
     "iopub.status.busy": "2023-10-05T12:20:04.700903Z",
     "iopub.status.idle": "2023-10-05T12:20:04.737397Z",
     "shell.execute_reply": "2023-10-05T12:20:04.736313Z"
    },
    "papermill": {
     "duration": 0.047291,
     "end_time": "2023-10-05T12:20:04.739602",
     "exception": false,
     "start_time": "2023-10-05T12:20:04.692311",
     "status": "completed"
    },
    "tags": []
   },
   "outputs": [
    {
     "data": {
      "text/html": [
       "<div>\n",
       "<style scoped>\n",
       "    .dataframe tbody tr th:only-of-type {\n",
       "        vertical-align: middle;\n",
       "    }\n",
       "\n",
       "    .dataframe tbody tr th {\n",
       "        vertical-align: top;\n",
       "    }\n",
       "\n",
       "    .dataframe thead th {\n",
       "        text-align: right;\n",
       "    }\n",
       "</style>\n",
       "<table border=\"1\" class=\"dataframe\">\n",
       "  <thead>\n",
       "    <tr style=\"text-align: right;\">\n",
       "      <th></th>\n",
       "      <th>PassengerId</th>\n",
       "      <th>Survived</th>\n",
       "      <th>Pclass</th>\n",
       "      <th>Age</th>\n",
       "      <th>SibSp</th>\n",
       "      <th>Parch</th>\n",
       "      <th>Fare</th>\n",
       "    </tr>\n",
       "  </thead>\n",
       "  <tbody>\n",
       "    <tr>\n",
       "      <th>count</th>\n",
       "      <td>418.000000</td>\n",
       "      <td>418.000000</td>\n",
       "      <td>418.000000</td>\n",
       "      <td>332.000000</td>\n",
       "      <td>418.000000</td>\n",
       "      <td>418.000000</td>\n",
       "      <td>417.000000</td>\n",
       "    </tr>\n",
       "    <tr>\n",
       "      <th>mean</th>\n",
       "      <td>1100.500000</td>\n",
       "      <td>0.363636</td>\n",
       "      <td>2.265550</td>\n",
       "      <td>30.272590</td>\n",
       "      <td>0.447368</td>\n",
       "      <td>0.392344</td>\n",
       "      <td>35.627188</td>\n",
       "    </tr>\n",
       "    <tr>\n",
       "      <th>std</th>\n",
       "      <td>120.810458</td>\n",
       "      <td>0.481622</td>\n",
       "      <td>0.841838</td>\n",
       "      <td>14.181209</td>\n",
       "      <td>0.896760</td>\n",
       "      <td>0.981429</td>\n",
       "      <td>55.907576</td>\n",
       "    </tr>\n",
       "    <tr>\n",
       "      <th>min</th>\n",
       "      <td>892.000000</td>\n",
       "      <td>0.000000</td>\n",
       "      <td>1.000000</td>\n",
       "      <td>0.170000</td>\n",
       "      <td>0.000000</td>\n",
       "      <td>0.000000</td>\n",
       "      <td>0.000000</td>\n",
       "    </tr>\n",
       "    <tr>\n",
       "      <th>25%</th>\n",
       "      <td>996.250000</td>\n",
       "      <td>0.000000</td>\n",
       "      <td>1.000000</td>\n",
       "      <td>21.000000</td>\n",
       "      <td>0.000000</td>\n",
       "      <td>0.000000</td>\n",
       "      <td>7.895800</td>\n",
       "    </tr>\n",
       "    <tr>\n",
       "      <th>50%</th>\n",
       "      <td>1100.500000</td>\n",
       "      <td>0.000000</td>\n",
       "      <td>3.000000</td>\n",
       "      <td>27.000000</td>\n",
       "      <td>0.000000</td>\n",
       "      <td>0.000000</td>\n",
       "      <td>14.454200</td>\n",
       "    </tr>\n",
       "    <tr>\n",
       "      <th>75%</th>\n",
       "      <td>1204.750000</td>\n",
       "      <td>1.000000</td>\n",
       "      <td>3.000000</td>\n",
       "      <td>39.000000</td>\n",
       "      <td>1.000000</td>\n",
       "      <td>0.000000</td>\n",
       "      <td>31.500000</td>\n",
       "    </tr>\n",
       "    <tr>\n",
       "      <th>max</th>\n",
       "      <td>1309.000000</td>\n",
       "      <td>1.000000</td>\n",
       "      <td>3.000000</td>\n",
       "      <td>76.000000</td>\n",
       "      <td>8.000000</td>\n",
       "      <td>9.000000</td>\n",
       "      <td>512.329200</td>\n",
       "    </tr>\n",
       "  </tbody>\n",
       "</table>\n",
       "</div>"
      ],
      "text/plain": [
       "       PassengerId    Survived      Pclass         Age       SibSp  \\\n",
       "count   418.000000  418.000000  418.000000  332.000000  418.000000   \n",
       "mean   1100.500000    0.363636    2.265550   30.272590    0.447368   \n",
       "std     120.810458    0.481622    0.841838   14.181209    0.896760   \n",
       "min     892.000000    0.000000    1.000000    0.170000    0.000000   \n",
       "25%     996.250000    0.000000    1.000000   21.000000    0.000000   \n",
       "50%    1100.500000    0.000000    3.000000   27.000000    0.000000   \n",
       "75%    1204.750000    1.000000    3.000000   39.000000    1.000000   \n",
       "max    1309.000000    1.000000    3.000000   76.000000    8.000000   \n",
       "\n",
       "            Parch        Fare  \n",
       "count  418.000000  417.000000  \n",
       "mean     0.392344   35.627188  \n",
       "std      0.981429   55.907576  \n",
       "min      0.000000    0.000000  \n",
       "25%      0.000000    7.895800  \n",
       "50%      0.000000   14.454200  \n",
       "75%      0.000000   31.500000  \n",
       "max      9.000000  512.329200  "
      ]
     },
     "execution_count": 5,
     "metadata": {},
     "output_type": "execute_result"
    }
   ],
   "source": [
    "titanic_data.describe()"
   ]
  },
  {
   "cell_type": "code",
   "execution_count": 6,
   "id": "c9478ce1",
   "metadata": {
    "execution": {
     "iopub.execute_input": "2023-10-05T12:20:04.757716Z",
     "iopub.status.busy": "2023-10-05T12:20:04.756895Z",
     "iopub.status.idle": "2023-10-05T12:20:04.782761Z",
     "shell.execute_reply": "2023-10-05T12:20:04.781613Z"
    },
    "papermill": {
     "duration": 0.037252,
     "end_time": "2023-10-05T12:20:04.784985",
     "exception": false,
     "start_time": "2023-10-05T12:20:04.747733",
     "status": "completed"
    },
    "tags": []
   },
   "outputs": [
    {
     "name": "stdout",
     "output_type": "stream",
     "text": [
      "<class 'pandas.core.frame.DataFrame'>\n",
      "RangeIndex: 418 entries, 0 to 417\n",
      "Data columns (total 12 columns):\n",
      " #   Column       Non-Null Count  Dtype  \n",
      "---  ------       --------------  -----  \n",
      " 0   PassengerId  418 non-null    int64  \n",
      " 1   Survived     418 non-null    int64  \n",
      " 2   Pclass       418 non-null    int64  \n",
      " 3   Name         418 non-null    object \n",
      " 4   Sex          418 non-null    object \n",
      " 5   Age          332 non-null    float64\n",
      " 6   SibSp        418 non-null    int64  \n",
      " 7   Parch        418 non-null    int64  \n",
      " 8   Ticket       418 non-null    object \n",
      " 9   Fare         417 non-null    float64\n",
      " 10  Cabin        91 non-null     object \n",
      " 11  Embarked     418 non-null    object \n",
      "dtypes: float64(2), int64(5), object(5)\n",
      "memory usage: 39.3+ KB\n"
     ]
    }
   ],
   "source": [
    "titanic_data.info()"
   ]
  },
  {
   "cell_type": "code",
   "execution_count": 7,
   "id": "074337fd",
   "metadata": {
    "execution": {
     "iopub.execute_input": "2023-10-05T12:20:04.803267Z",
     "iopub.status.busy": "2023-10-05T12:20:04.802877Z",
     "iopub.status.idle": "2023-10-05T12:20:05.208054Z",
     "shell.execute_reply": "2023-10-05T12:20:05.206876Z"
    },
    "papermill": {
     "duration": 0.417648,
     "end_time": "2023-10-05T12:20:05.210655",
     "exception": false,
     "start_time": "2023-10-05T12:20:04.793007",
     "status": "completed"
    },
    "tags": []
   },
   "outputs": [
    {
     "data": {
      "text/plain": [
       "<Axes: >"
      ]
     },
     "execution_count": 7,
     "metadata": {},
     "output_type": "execute_result"
    },
    {
     "data": {
      "image/png": "[encoded data removed]",
      "text/plain": [
       "<Figure size 2000x1000 with 1 Axes>"
      ]
     },
     "metadata": {},
     "output_type": "display_data"
    }
   ],
   "source": [
    "fig, ax = plt.subplots(figsize=(20,10))\n",
    "sns.boxplot(data=titanic_data, width= 0.7,ax=ax,  fliersize=3)"
   ]
  },
  {
   "cell_type": "markdown",
   "id": "17a586a0",
   "metadata": {
    "papermill": {
     "duration": 0.008158,
     "end_time": "2023-10-05T12:20:05.227542",
     "exception": false,
     "start_time": "2023-10-05T12:20:05.219384",
     "status": "completed"
    },
    "tags": []
   },
   "source": [
    "**check Null Values**"
   ]
  },
  {
   "cell_type": "code",
   "execution_count": 8,
   "id": "3d7d0c74",
   "metadata": {
    "execution": {
     "iopub.execute_input": "2023-10-05T12:20:05.246035Z",
     "iopub.status.busy": "2023-10-05T12:20:05.245455Z",
     "iopub.status.idle": "2023-10-05T12:20:05.253751Z",
     "shell.execute_reply": "2023-10-05T12:20:05.252490Z"
    },
    "papermill": {
     "duration": 0.020278,
     "end_time": "2023-10-05T12:20:05.256134",
     "exception": false,
     "start_time": "2023-10-05T12:20:05.235856",
     "status": "completed"
    },
    "tags": []
   },
   "outputs": [
    {
     "data": {
      "text/plain": [
       "PassengerId      0\n",
       "Survived         0\n",
       "Pclass           0\n",
       "Name             0\n",
       "Sex              0\n",
       "Age             86\n",
       "SibSp            0\n",
       "Parch            0\n",
       "Ticket           0\n",
       "Fare             1\n",
       "Cabin          327\n",
       "Embarked         0\n",
       "dtype: int64"
      ]
     },
     "execution_count": 8,
     "metadata": {},
     "output_type": "execute_result"
    }
   ],
   "source": [
    "titanic_data.isnull().sum()"
   ]
  },
  {
   "cell_type": "markdown",
   "id": "a0738600",
   "metadata": {
    "papermill": {
     "duration": 0.008378,
     "end_time": "2023-10-05T12:20:05.273279",
     "exception": false,
     "start_time": "2023-10-05T12:20:05.264901",
     "status": "completed"
    },
    "tags": []
   },
   "source": [
    "**check duplicated values**"
   ]
  },
  {
   "cell_type": "code",
   "execution_count": 9,
   "id": "0712e9fb",
   "metadata": {
    "execution": {
     "iopub.execute_input": "2023-10-05T12:20:05.292412Z",
     "iopub.status.busy": "2023-10-05T12:20:05.292000Z",
     "iopub.status.idle": "2023-10-05T12:20:05.304372Z",
     "shell.execute_reply": "2023-10-05T12:20:05.303120Z"
    },
    "papermill": {
     "duration": 0.024497,
     "end_time": "2023-10-05T12:20:05.306638",
     "exception": false,
     "start_time": "2023-10-05T12:20:05.282141",
     "status": "completed"
    },
    "tags": []
   },
   "outputs": [
    {
     "data": {
      "text/plain": [
       "0"
      ]
     },
     "execution_count": 9,
     "metadata": {},
     "output_type": "execute_result"
    }
   ],
   "source": [
    "titanic_data.duplicated().sum()"
   ]
  },
  {
   "cell_type": "markdown",
   "id": "32cbfe49",
   "metadata": {
    "papermill": {
     "duration": 0.008899,
     "end_time": "2023-10-05T12:20:05.324459",
     "exception": false,
     "start_time": "2023-10-05T12:20:05.315560",
     "status": "completed"
    },
    "tags": []
   },
   "source": [
    "**fill Null Values with Methods such as Median and Mean**"
   ]
  },
  {
   "cell_type": "code",
   "execution_count": 10,
   "id": "6ec0e1a1",
   "metadata": {
    "execution": {
     "iopub.execute_input": "2023-10-05T12:20:05.343923Z",
     "iopub.status.busy": "2023-10-05T12:20:05.343333Z",
     "iopub.status.idle": "2023-10-05T12:20:05.350405Z",
     "shell.execute_reply": "2023-10-05T12:20:05.349449Z"
    },
    "papermill": {
     "duration": 0.019936,
     "end_time": "2023-10-05T12:20:05.353224",
     "exception": false,
     "start_time": "2023-10-05T12:20:05.333288",
     "status": "completed"
    },
    "tags": []
   },
   "outputs": [],
   "source": [
    "titanic_data['Age'].fillna(titanic_data['Age'].mean(),inplace=True)\n",
    "titanic_data['Fare'].fillna(titanic_data['Fare'].median(),inplace=True)"
   ]
  },
  {
   "cell_type": "markdown",
   "id": "4233003c",
   "metadata": {
    "papermill": {
     "duration": 0.008429,
     "end_time": "2023-10-05T12:20:05.370641",
     "exception": false,
     "start_time": "2023-10-05T12:20:05.362212",
     "status": "completed"
    },
    "tags": []
   },
   "source": [
    "**Deleting redundant columns.**"
   ]
  },
  {
   "cell_type": "code",
   "execution_count": 11,
   "id": "56a8c214",
   "metadata": {
    "execution": {
     "iopub.execute_input": "2023-10-05T12:20:05.391179Z",
     "iopub.status.busy": "2023-10-05T12:20:05.390790Z",
     "iopub.status.idle": "2023-10-05T12:20:05.395982Z",
     "shell.execute_reply": "2023-10-05T12:20:05.395254Z"
    },
    "papermill": {
     "duration": 0.017109,
     "end_time": "2023-10-05T12:20:05.397860",
     "exception": false,
     "start_time": "2023-10-05T12:20:05.380751",
     "status": "completed"
    },
    "tags": []
   },
   "outputs": [],
   "source": [
    "titanic_data.drop(columns={'PassengerId','Name','Cabin','Ticket'},inplace=True)"
   ]
  },
  {
   "cell_type": "markdown",
   "id": "0c81123a",
   "metadata": {
    "papermill": {
     "duration": 0.008376,
     "end_time": "2023-10-05T12:20:05.477659",
     "exception": false,
     "start_time": "2023-10-05T12:20:05.469283",
     "status": "completed"
    },
    "tags": []
   },
   "source": [
    "# Data Visualization"
   ]
  },
  {
   "cell_type": "code",
   "execution_count": 12,
   "id": "8f832faf",
   "metadata": {
    "execution": {
     "iopub.execute_input": "2023-10-05T12:20:05.497092Z",
     "iopub.status.busy": "2023-10-05T12:20:05.496466Z",
     "iopub.status.idle": "2023-10-05T12:20:05.677616Z",
     "shell.execute_reply": "2023-10-05T12:20:05.676137Z"
    },
    "papermill": {
     "duration": 0.195139,
     "end_time": "2023-10-05T12:20:05.681486",
     "exception": false,
     "start_time": "2023-10-05T12:20:05.486347",
     "status": "completed"
    },
    "tags": []
   },
   "outputs": [
    {
     "data": {
      "text/plain": [
       "<Axes: ylabel='Survived'>"
      ]
     },
     "execution_count": 12,
     "metadata": {},
     "output_type": "execute_result"
    },
    {
     "data": {
      "image/png": "[encoded data removed]",
      "text/plain": [
       "<Figure size 640x480 with 1 Axes>"
      ]
     },
     "metadata": {},
     "output_type": "display_data"
    }
   ],
   "source": [
    "titanic_data.groupby(['Survived']).agg({'Survived':'count'}).plot(kind='pie', y='Survived')"
   ]
  },
  {
   "cell_type": "code",
   "execution_count": 13,
   "id": "b4be4018",
   "metadata": {
    "execution": {
     "iopub.execute_input": "2023-10-05T12:20:05.736982Z",
     "iopub.status.busy": "2023-10-05T12:20:05.736024Z",
     "iopub.status.idle": "2023-10-05T12:20:05.941618Z",
     "shell.execute_reply": "2023-10-05T12:20:05.940148Z"
    },
    "papermill": {
     "duration": 0.237785,
     "end_time": "2023-10-05T12:20:05.945568",
     "exception": false,
     "start_time": "2023-10-05T12:20:05.707783",
     "status": "completed"
    },
    "tags": []
   },
   "outputs": [
    {
     "data": {
      "image/png": "[encoded data removed]",
      "text/plain": [
       "<Figure size 800x800 with 1 Axes>"
      ]
     },
     "metadata": {},
     "output_type": "display_data"
    }
   ],
   "source": [
    "Embarked_Value_counts = titanic_data['Embarked'].value_counts()\n",
    "plt.figure(figsize=(8, 8))\n",
    "plt.pie(Embarked_Value_counts, labels=Embarked_Value_counts.index, autopct='%1.1f%%', colors=['#FACBEA', '#D988B9', '#B0578D'])\n",
    "plt.title(\"Distribution of Passengers by Embarked\")\n",
    "plt.legend([\"Q\", \"S\", \"C\"])\n",
    "plt.show()"
   ]
  },
  {
   "cell_type": "code",
   "execution_count": 14,
   "id": "73f91ebc",
   "metadata": {
    "execution": {
     "iopub.execute_input": "2023-10-05T12:20:05.966671Z",
     "iopub.status.busy": "2023-10-05T12:20:05.966098Z",
     "iopub.status.idle": "2023-10-05T12:20:06.319320Z",
     "shell.execute_reply": "2023-10-05T12:20:06.318028Z"
    },
    "papermill": {
     "duration": 0.366448,
     "end_time": "2023-10-05T12:20:06.321682",
     "exception": false,
     "start_time": "2023-10-05T12:20:05.955234",
     "status": "completed"
    },
    "tags": []
   },
   "outputs": [
    {
     "data": {
      "text/plain": [
       "[]"
      ]
     },
     "execution_count": 14,
     "metadata": {},
     "output_type": "execute_result"
    },
    {
     "data": {
      "image/png": "[encoded data removed]",
      "text/plain": [
       "<Figure size 2000x1000 with 1 Axes>"
      ]
     },
     "metadata": {},
     "output_type": "display_data"
    }
   ],
   "source": [
    "_, ax = plt.subplots(figsize = (20, 10))\n",
    "sns.countplot(data = titanic_data, x = \"Sex\", hue = \"Survived\",palette=[ \"#12486B\",\"#6499E9\"], ax = ax)\n",
    "ax.set_title(\"Countplot for Sex with Survival\")\n",
    "ax.set_xlabel(\"Sex\")\n",
    "\n",
    "ax.set_ylabel(\"Number of Passengers\")\n",
    "ax.legend(title = \"Diabetes\", labels = [\"Non Survived\", \"Survived\"])\n",
    "plt.plot()"
   ]
  },
  {
   "cell_type": "code",
   "execution_count": 15,
   "id": "0a1e8a2e",
   "metadata": {
    "execution": {
     "iopub.execute_input": "2023-10-05T12:20:06.343713Z",
     "iopub.status.busy": "2023-10-05T12:20:06.343364Z",
     "iopub.status.idle": "2023-10-05T12:20:06.854404Z",
     "shell.execute_reply": "2023-10-05T12:20:06.853019Z"
    },
    "papermill": {
     "duration": 0.525184,
     "end_time": "2023-10-05T12:20:06.857029",
     "exception": false,
     "start_time": "2023-10-05T12:20:06.331845",
     "status": "completed"
    },
    "tags": []
   },
   "outputs": [
    {
     "data": {
      "image/png": "[encoded data removed]",
      "text/plain": [
       "<Figure size 640x480 with 1 Axes>"
      ]
     },
     "metadata": {},
     "output_type": "display_data"
    }
   ],
   "source": [
    "sns.histplot(data=titanic_data[titanic_data['Survived'] == 1], x='Age', kde=True, color='green', label='Survived')\n",
    "sns.histplot(data=titanic_data[titanic_data['Survived']== 0], x='Age', kde=True, color='black', label='Non Survived')\n",
    "plt.xlabel('Survived')\n",
    "plt.ylabel('Density')\n",
    "plt.title('Age Distribution by Survived Status')\n",
    "plt.legend(title='Survived Status')\n",
    "plt.show()"
   ]
  },
  {
   "cell_type": "code",
   "execution_count": 16,
   "id": "4c88671d",
   "metadata": {
    "execution": {
     "iopub.execute_input": "2023-10-05T12:20:06.882975Z",
     "iopub.status.busy": "2023-10-05T12:20:06.882517Z",
     "iopub.status.idle": "2023-10-05T12:20:07.278152Z",
     "shell.execute_reply": "2023-10-05T12:20:07.275624Z"
    },
    "papermill": {
     "duration": 0.411962,
     "end_time": "2023-10-05T12:20:07.281458",
     "exception": false,
     "start_time": "2023-10-05T12:20:06.869496",
     "status": "completed"
    },
    "tags": []
   },
   "outputs": [
    {
     "data": {
      "text/plain": [
       "[]"
      ]
     },
     "execution_count": 16,
     "metadata": {},
     "output_type": "execute_result"
    },
    {
     "data": {
      "image/png": "[encoded data removed]",
      "text/plain": [
       "<Figure size 2000x1000 with 1 Axes>"
      ]
     },
     "metadata": {},
     "output_type": "display_data"
    }
   ],
   "source": [
    "_, ax = plt.subplots(figsize = (20, 10))\n",
    "sns.countplot(data = titanic_data, x = \"Pclass\", hue = \"Survived\",palette=[\"#053B50\", \"#088395\"], ax = ax)\n",
    "ax.set_title(\"Countplot for Pclass with Survival\")\n",
    "ax.set_xlabel(\"Pclass\")\n",
    "\n",
    "ax.set_ylabel(\"Number of Passengers\")\n",
    "ax.legend(title = \"Diabetes\", labels = [\"Non Survived\", \"Survived\"])\n",
    "plt.plot()"
   ]
  },
  {
   "cell_type": "code",
   "execution_count": 17,
   "id": "e103881f",
   "metadata": {
    "execution": {
     "iopub.execute_input": "2023-10-05T12:20:07.313616Z",
     "iopub.status.busy": "2023-10-05T12:20:07.312303Z",
     "iopub.status.idle": "2023-10-05T12:20:07.592888Z",
     "shell.execute_reply": "2023-10-05T12:20:07.592044Z"
    },
    "papermill": {
     "duration": 0.298519,
     "end_time": "2023-10-05T12:20:07.595001",
     "exception": false,
     "start_time": "2023-10-05T12:20:07.296482",
     "status": "completed"
    },
    "tags": []
   },
   "outputs": [
    {
     "data": {
      "image/png": "[encoded data removed]",
      "text/plain": [
       "<Figure size 640x480 with 1 Axes>"
      ]
     },
     "metadata": {},
     "output_type": "display_data"
    }
   ],
   "source": [
    "plt.plot(titanic_data['SibSp'])\n",
    "plt.plot(titanic_data['Parch'])\n",
    "plt.title(\"Scatter Plot\")\n",
    "plt.ylabel('count')\n",
    "plt.legend([\"SibSp\", \"Parch\"])\n",
    "plt.show()"
   ]
  },
  {
   "cell_type": "markdown",
   "id": "aa4cee9b",
   "metadata": {
    "papermill": {
     "duration": 0.014094,
     "end_time": "2023-10-05T12:20:07.621692",
     "exception": false,
     "start_time": "2023-10-05T12:20:07.607598",
     "status": "completed"
    },
    "tags": []
   },
   "source": [
    "**Apply some Transformation to convert Category column to Numeric**"
   ]
  },
  {
   "cell_type": "code",
   "execution_count": 18,
   "id": "eeb61546",
   "metadata": {
    "execution": {
     "iopub.execute_input": "2023-10-05T12:20:07.654889Z",
     "iopub.status.busy": "2023-10-05T12:20:07.653824Z",
     "iopub.status.idle": "2023-10-05T12:20:07.662303Z",
     "shell.execute_reply": "2023-10-05T12:20:07.660857Z"
    },
    "papermill": {
     "duration": 0.025932,
     "end_time": "2023-10-05T12:20:07.665241",
     "exception": false,
     "start_time": "2023-10-05T12:20:07.639309",
     "status": "completed"
    },
    "tags": []
   },
   "outputs": [],
   "source": [
    "LE=LabelEncoder()\n",
    "titanic_data['Sex']=LE.fit_transform(titanic_data['Sex'])\n",
    "titanic_data['Embarked']=LE.fit_transform(titanic_data['Embarked'])"
   ]
  },
  {
   "cell_type": "code",
   "execution_count": 19,
   "id": "0a105c74",
   "metadata": {
    "execution": {
     "iopub.execute_input": "2023-10-05T12:20:07.693823Z",
     "iopub.status.busy": "2023-10-05T12:20:07.693044Z",
     "iopub.status.idle": "2023-10-05T12:20:07.702589Z",
     "shell.execute_reply": "2023-10-05T12:20:07.701130Z"
    },
    "papermill": {
     "duration": 0.027467,
     "end_time": "2023-10-05T12:20:07.705985",
     "exception": false,
     "start_time": "2023-10-05T12:20:07.678518",
     "status": "completed"
    },
    "tags": []
   },
   "outputs": [
    {
     "data": {
      "text/plain": [
       "Survived      int64\n",
       "Pclass        int64\n",
       "Sex           int64\n",
       "Age         float64\n",
       "SibSp         int64\n",
       "Parch         int64\n",
       "Fare        float64\n",
       "Embarked      int64\n",
       "dtype: object"
      ]
     },
     "execution_count": 19,
     "metadata": {},
     "output_type": "execute_result"
    }
   ],
   "source": [
    "titanic_data.dtypes"
   ]
  },
  {
   "cell_type": "markdown",
   "id": "452b31c6",
   "metadata": {
    "papermill": {
     "duration": 0.012045,
     "end_time": "2023-10-05T12:20:07.732602",
     "exception": false,
     "start_time": "2023-10-05T12:20:07.720557",
     "status": "completed"
    },
    "tags": []
   },
   "source": [
    "**Convert datetype of columns Age and Fare fron float to int**"
   ]
  },
  {
   "cell_type": "code",
   "execution_count": 20,
   "id": "b0ca2bc2",
   "metadata": {
    "execution": {
     "iopub.execute_input": "2023-10-05T12:20:07.760306Z",
     "iopub.status.busy": "2023-10-05T12:20:07.759115Z",
     "iopub.status.idle": "2023-10-05T12:20:07.765658Z",
     "shell.execute_reply": "2023-10-05T12:20:07.764839Z"
    },
    "papermill": {
     "duration": 0.023025,
     "end_time": "2023-10-05T12:20:07.768058",
     "exception": false,
     "start_time": "2023-10-05T12:20:07.745033",
     "status": "completed"
    },
    "tags": []
   },
   "outputs": [],
   "source": [
    "titanic_data['Age']=titanic_data['Age'].astype(int)\n",
    "titanic_data['Fare']=titanic_data['Fare'].astype(int)"
   ]
  },
  {
   "cell_type": "markdown",
   "id": "fc8dea9b",
   "metadata": {
    "papermill": {
     "duration": 0.012492,
     "end_time": "2023-10-05T12:20:07.794635",
     "exception": false,
     "start_time": "2023-10-05T12:20:07.782143",
     "status": "completed"
    },
    "tags": []
   },
   "source": [
    "**Feature Selection**"
   ]
  },
  {
   "cell_type": "code",
   "execution_count": 21,
   "id": "bcc3c0b9",
   "metadata": {
    "execution": {
     "iopub.execute_input": "2023-10-05T12:20:07.822638Z",
     "iopub.status.busy": "2023-10-05T12:20:07.822254Z",
     "iopub.status.idle": "2023-10-05T12:20:07.828695Z",
     "shell.execute_reply": "2023-10-05T12:20:07.827442Z"
    },
    "papermill": {
     "duration": 0.023322,
     "end_time": "2023-10-05T12:20:07.831126",
     "exception": false,
     "start_time": "2023-10-05T12:20:07.807804",
     "status": "completed"
    },
    "tags": []
   },
   "outputs": [],
   "source": [
    "X=titanic_data.drop('Survived',axis=1)\n",
    "Y=titanic_data.iloc[:,0]"
   ]
  },
  {
   "cell_type": "markdown",
   "id": "3e2cb9a2",
   "metadata": {
    "papermill": {
     "duration": 0.012269,
     "end_time": "2023-10-05T12:20:07.856079",
     "exception": false,
     "start_time": "2023-10-05T12:20:07.843810",
     "status": "completed"
    },
    "tags": []
   },
   "source": [
    "**Split Data**"
   ]
  },
  {
   "cell_type": "code",
   "execution_count": 22,
   "id": "d93a1681",
   "metadata": {
    "execution": {
     "iopub.execute_input": "2023-10-05T12:20:07.883183Z",
     "iopub.status.busy": "2023-10-05T12:20:07.882800Z",
     "iopub.status.idle": "2023-10-05T12:20:07.889395Z",
     "shell.execute_reply": "2023-10-05T12:20:07.888598Z"
    },
    "papermill": {
     "duration": 0.022557,
     "end_time": "2023-10-05T12:20:07.891309",
     "exception": false,
     "start_time": "2023-10-05T12:20:07.868752",
     "status": "completed"
    },
    "tags": []
   },
   "outputs": [],
   "source": [
    "X_Train,X_Test,Y_train,Y_Test=train_test_split(X,Y,test_size=0.2)"
   ]
  },
  {
   "cell_type": "markdown",
   "id": "ee567f41",
   "metadata": {
    "papermill": {
     "duration": 0.012354,
     "end_time": "2023-10-05T12:20:07.916174",
     "exception": false,
     "start_time": "2023-10-05T12:20:07.903820",
     "status": "completed"
    },
    "tags": []
   },
   "source": [
    "**Build Models**"
   ]
  },
  {
   "cell_type": "code",
   "execution_count": 23,
   "id": "6ae63c6f",
   "metadata": {
    "execution": {
     "iopub.execute_input": "2023-10-05T12:20:07.943468Z",
     "iopub.status.busy": "2023-10-05T12:20:07.942893Z",
     "iopub.status.idle": "2023-10-05T12:20:07.979564Z",
     "shell.execute_reply": "2023-10-05T12:20:07.978001Z"
    },
    "papermill": {
     "duration": 0.052743,
     "end_time": "2023-10-05T12:20:07.981722",
     "exception": false,
     "start_time": "2023-10-05T12:20:07.928979",
     "status": "completed"
    },
    "tags": []
   },
   "outputs": [
    {
     "name": "stderr",
     "output_type": "stream",
     "text": [
      "/opt/conda/lib/python3.10/site-packages/sklearn/linear_model/_logistic.py:458: ConvergenceWarning: lbfgs failed to converge (status=1):\n",
      "STOP: TOTAL NO. of ITERATIONS REACHED LIMIT.\n",
      "\n",
      "Increase the number of iterations (max_iter) or scale the data as shown in:\n",
      "    https://scikit-learn.org/stable/modules/preprocessing.html\n",
      "Please also refer to the documentation for alternative solver options:\n",
      "    https://scikit-learn.org/stable/modules/linear_model.html#logistic-regression\n",
      "  n_iter_i = _check_optimize_result(\n"
     ]
    },
    {
     "data": {
      "text/html": [
       "<style>#sk-container-id-1 {color: black;background-color: white;}#sk-container-id-1 pre{padding: 0;}#sk-container-id-1 div.sk-toggleable {background-color: white;}#sk-container-id-1 label.sk-toggleable__label {cursor: pointer;display: block;width: 100%;margin-bottom: 0;padding: 0.3em;box-sizing: border-box;text-align: center;}#sk-container-id-1 label.sk-toggleable__label-arrow:before {content: \"▸\";float: left;margin-right: 0.25em;color: #696969;}#sk-container-id-1 label.sk-toggleable__label-arrow:hover:before {color: black;}#sk-container-id-1 div.sk-estimator:hover label.sk-toggleable__label-arrow:before {color: black;}#sk-container-id-1 div.sk-toggleable__content {max-height: 0;max-width: 0;overflow: hidden;text-align: left;background-color: #f0f8ff;}#sk-container-id-1 div.sk-toggleable__content pre {margin: 0.2em;color: black;border-radius: 0.25em;background-color: #f0f8ff;}#sk-container-id-1 input.sk-toggleable__control:checked~div.sk-toggleable__content {max-height: 200px;max-width: 100%;overflow: auto;}#sk-container-id-1 input.sk-toggleable__control:checked~label.sk-toggleable__label-arrow:before {content: \"▾\";}#sk-container-id-1 div.sk-estimator input.sk-toggleable__control:checked~label.sk-toggleable__label {background-color: #d4ebff;}#sk-container-id-1 div.sk-label input.sk-toggleable__control:checked~label.sk-toggleable__label {background-color: #d4ebff;}#sk-container-id-1 input.sk-hidden--visually {border: 0;clip: rect(1px 1px 1px 1px);clip: rect(1px, 1px, 1px, 1px);height: 1px;margin: -1px;overflow: hidden;padding: 0;position: absolute;width: 1px;}#sk-container-id-1 div.sk-estimator {font-family: monospace;background-color: #f0f8ff;border: 1px dotted black;border-radius: 0.25em;box-sizing: border-box;margin-bottom: 0.5em;}#sk-container-id-1 div.sk-estimator:hover {background-color: #d4ebff;}#sk-container-id-1 div.sk-parallel-item::after {content: \"\";width: 100%;border-bottom: 1px solid gray;flex-grow: 1;}#sk-container-id-1 div.sk-label:hover label.sk-toggleable__label {background-color: #d4ebff;}#sk-container-id-1 div.sk-serial::before {content: \"\";position: absolute;border-left: 1px solid gray;box-sizing: border-box;top: 0;bottom: 0;left: 50%;z-index: 0;}#sk-container-id-1 div.sk-serial {display: flex;flex-direction: column;align-items: center;background-color: white;padding-right: 0.2em;padding-left: 0.2em;position: relative;}#sk-container-id-1 div.sk-item {position: relative;z-index: 1;}#sk-container-id-1 div.sk-parallel {display: flex;align-items: stretch;justify-content: center;background-color: white;position: relative;}#sk-container-id-1 div.sk-item::before, #sk-container-id-1 div.sk-parallel-item::before {content: \"\";position: absolute;border-left: 1px solid gray;box-sizing: border-box;top: 0;bottom: 0;left: 50%;z-index: -1;}#sk-container-id-1 div.sk-parallel-item {display: flex;flex-direction: column;z-index: 1;position: relative;background-color: white;}#sk-container-id-1 div.sk-parallel-item:first-child::after {align-self: flex-end;width: 50%;}#sk-container-id-1 div.sk-parallel-item:last-child::after {align-self: flex-start;width: 50%;}#sk-container-id-1 div.sk-parallel-item:only-child::after {width: 0;}#sk-container-id-1 div.sk-dashed-wrapped {border: 1px dashed gray;margin: 0 0.4em 0.5em 0.4em;box-sizing: border-box;padding-bottom: 0.4em;background-color: white;}#sk-container-id-1 div.sk-label label {font-family: monospace;font-weight: bold;display: inline-block;line-height: 1.2em;}#sk-container-id-1 div.sk-label-container {text-align: center;}#sk-container-id-1 div.sk-container {/* jupyter's `normalize.less` sets `[hidden] { display: none; }` but bootstrap.min.css set `[hidden] { display: none !important; }` so we also need the `!important` here to be able to override the default hidden behavior on the sphinx rendered scikit-learn.org. See: https://github.com/scikit-learn/scikit-learn/issues/21755 */display: inline-block !important;position: relative;}#sk-container-id-1 div.sk-text-repr-fallback {display: none;}</style><div id=\"sk-container-id-1\" class=\"sk-top-container\"><div class=\"sk-text-repr-fallback\"><pre>LogisticRegression()</pre><b>In a Jupyter environment, please rerun this cell to show the HTML representation or trust the notebook. <br />On GitHub, the HTML representation is unable to render, please try loading this page with nbviewer.org.</b></div><div class=\"sk-container\" hidden><div class=\"sk-item\"><div class=\"sk-estimator sk-toggleable\"><input class=\"sk-toggleable__control sk-hidden--visually\" id=\"sk-estimator-id-1\" type=\"checkbox\" checked><label for=\"sk-estimator-id-1\" class=\"sk-toggleable__label sk-toggleable__label-arrow\">LogisticRegression</label><div class=\"sk-toggleable__content\"><pre>LogisticRegression()</pre></div></div></div></div></div>"
      ],
      "text/plain": [
       "LogisticRegression()"
      ]
     },
     "execution_count": 23,
     "metadata": {},
     "output_type": "execute_result"
    }
   ],
   "source": [
    "LR_Model=linear_model.LogisticRegression()\n",
    "LR_Model.fit(X_Train,Y_train)\n"
   ]
  },
  {
   "cell_type": "code",
   "execution_count": 24,
   "id": "7223ba8f",
   "metadata": {
    "execution": {
     "iopub.execute_input": "2023-10-05T12:20:08.011862Z",
     "iopub.status.busy": "2023-10-05T12:20:08.011450Z",
     "iopub.status.idle": "2023-10-05T12:20:08.018030Z",
     "shell.execute_reply": "2023-10-05T12:20:08.017211Z"
    },
    "papermill": {
     "duration": 0.024808,
     "end_time": "2023-10-05T12:20:08.019916",
     "exception": false,
     "start_time": "2023-10-05T12:20:07.995108",
     "status": "completed"
    },
    "tags": []
   },
   "outputs": [],
   "source": [
    "LR_predicted = LR_Model.predict(X_Test)"
   ]
  },
  {
   "cell_type": "code",
   "execution_count": 25,
   "id": "6c443b80",
   "metadata": {
    "execution": {
     "iopub.execute_input": "2023-10-05T12:20:08.048660Z",
     "iopub.status.busy": "2023-10-05T12:20:08.047599Z",
     "iopub.status.idle": "2023-10-05T12:20:08.064374Z",
     "shell.execute_reply": "2023-10-05T12:20:08.062900Z"
    },
    "papermill": {
     "duration": 0.033322,
     "end_time": "2023-10-05T12:20:08.066422",
     "exception": false,
     "start_time": "2023-10-05T12:20:08.033100",
     "status": "completed"
    },
    "tags": []
   },
   "outputs": [
    {
     "name": "stdout",
     "output_type": "stream",
     "text": [
      "Accuracy = 100.00%\n",
      "Recall: 1.0\n",
      "Precision: 1.0\n",
      "F1 Score: 1.0\n"
     ]
    }
   ],
   "source": [
    "print(\"Accuracy = {:0.2f}%\".format(score(LR_predicted, Y_Test)*100))\n",
    "print('Recall: %.1f' % recall_score(Y_Test, LR_predicted))\n",
    "print('Precision: %.1f' % precision_score(Y_Test, LR_predicted))\n",
    "print('F1 Score: %.1f' % f1_score(Y_Test, LR_predicted))\n"
   ]
  },
  {
   "cell_type": "code",
   "execution_count": 26,
   "id": "bc7a3428",
   "metadata": {
    "execution": {
     "iopub.execute_input": "2023-10-05T12:20:08.095689Z",
     "iopub.status.busy": "2023-10-05T12:20:08.094881Z",
     "iopub.status.idle": "2023-10-05T12:20:08.107424Z",
     "shell.execute_reply": "2023-10-05T12:20:08.106385Z"
    },
    "papermill": {
     "duration": 0.030159,
     "end_time": "2023-10-05T12:20:08.109976",
     "exception": false,
     "start_time": "2023-10-05T12:20:08.079817",
     "status": "completed"
    },
    "tags": []
   },
   "outputs": [],
   "source": [
    "\n",
    "SVM_Model = svm.SVC(kernel='linear') \n",
    "SVM_Model.fit(X_Train,Y_train)\n",
    "SVM_predicted = SVM_Model.predict(X_Test)"
   ]
  },
  {
   "cell_type": "code",
   "execution_count": 27,
   "id": "cd25b159",
   "metadata": {
    "execution": {
     "iopub.execute_input": "2023-10-05T12:20:08.139908Z",
     "iopub.status.busy": "2023-10-05T12:20:08.139554Z",
     "iopub.status.idle": "2023-10-05T12:20:08.153035Z",
     "shell.execute_reply": "2023-10-05T12:20:08.151707Z"
    },
    "papermill": {
     "duration": 0.03012,
     "end_time": "2023-10-05T12:20:08.155236",
     "exception": false,
     "start_time": "2023-10-05T12:20:08.125116",
     "status": "completed"
    },
    "tags": []
   },
   "outputs": [
    {
     "name": "stdout",
     "output_type": "stream",
     "text": [
      "Accuracy = 100.00%\n",
      "Recall: 1.0\n",
      "Precision: 1.0\n",
      "F1 Score: 1.0\n"
     ]
    }
   ],
   "source": [
    "print(\"Accuracy = {:0.2f}%\".format(score(SVM_predicted, Y_Test)*100))\n",
    "print('Recall: %.1f' % recall_score(Y_Test, SVM_predicted))\n",
    "print('Precision: %.1f' % precision_score(Y_Test, SVM_predicted))\n",
    "print('F1 Score: %.1f' % f1_score(Y_Test, SVM_predicted))"
   ]
  },
  {
   "cell_type": "code",
   "execution_count": 28,
   "id": "dd58a884",
   "metadata": {
    "execution": {
     "iopub.execute_input": "2023-10-05T12:20:08.183932Z",
     "iopub.status.busy": "2023-10-05T12:20:08.183522Z",
     "iopub.status.idle": "2023-10-05T12:20:08.194126Z",
     "shell.execute_reply": "2023-10-05T12:20:08.193146Z"
    },
    "papermill": {
     "duration": 0.027597,
     "end_time": "2023-10-05T12:20:08.196260",
     "exception": false,
     "start_time": "2023-10-05T12:20:08.168663",
     "status": "completed"
    },
    "tags": []
   },
   "outputs": [],
   "source": [
    "clf_Model = DecisionTreeClassifier()\n",
    "clf_Model = clf_Model.fit(X_Train,Y_train)\n",
    "DT_predicted= clf_Model.predict(X_Test)"
   ]
  },
  {
   "cell_type": "code",
   "execution_count": 29,
   "id": "9682194d",
   "metadata": {
    "execution": {
     "iopub.execute_input": "2023-10-05T12:20:08.225037Z",
     "iopub.status.busy": "2023-10-05T12:20:08.224301Z",
     "iopub.status.idle": "2023-10-05T12:20:08.236279Z",
     "shell.execute_reply": "2023-10-05T12:20:08.234667Z"
    },
    "papermill": {
     "duration": 0.028871,
     "end_time": "2023-10-05T12:20:08.238409",
     "exception": false,
     "start_time": "2023-10-05T12:20:08.209538",
     "status": "completed"
    },
    "tags": []
   },
   "outputs": [
    {
     "name": "stdout",
     "output_type": "stream",
     "text": [
      "Accuracy = 100.00%\n",
      "Recall: 1.0\n",
      "Precision: 1.0\n",
      "F1 Score: 1.0\n"
     ]
    }
   ],
   "source": [
    "print(\"Accuracy = {:0.2f}%\".format(score(DT_predicted, Y_Test)*100))\n",
    "print('Recall: %.1f' % recall_score(Y_Test, DT_predicted))\n",
    "print('Precision: %.1f' % precision_score(Y_Test, DT_predicted))\n",
    "print('F1 Score: %.1f' % f1_score(Y_Test, DT_predicted))"
   ]
  }
 ],
 "metadata": {
  "kernelspec": {
   "display_name": "Python 3",
   "language": "python",
   "name": "python3"
  },
  "language_info": {
   "codemirror_mode": {
    "name": "ipython",
    "version": 3
   },
   "file_extension": ".py",
   "mimetype": "text/x-python",
   "name": "python",
   "nbconvert_exporter": "python",
   "pygments_lexer": "ipython3",
   "version": "3.10.12"
  },
  "papermill": {
   "default_parameters": {},
   "duration": 10.467143,
   "end_time": "2023-10-05T12:20:08.872977",
   "environment_variables": {},
   "exception": null,
   "input_path": "__notebook__.ipynb",
   "output_path": "__notebook__.ipynb",
   "parameters": {},
   "start_time": "2023-10-05T12:19:58.405834",
   "version": "2.4.0"
  }
 },
 "nbformat": 4,
 "nbformat_minor": 5
}
